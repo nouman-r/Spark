{
 "cells": [
  {
   "cell_type": "code",
   "execution_count": 3,
   "metadata": {},
   "outputs": [
    {
     "name": "stdout",
     "output_type": "stream",
     "text": [
      "('ITE00100554', 323.0)\n",
      "('EZE00100082', 323.0)\n"
     ]
    }
   ],
   "source": [
    "import findspark\n",
    "findspark.init()\n",
    "import pyspark, collections\n",
    "from pyspark import SparkConf, SparkContext\n",
    "\n",
    "conf = SparkConf().setMaster(\"local\").setAppName(\"MinTemperatures\")\n",
    "sc = SparkContext(conf = conf)\n",
    "\n",
    "def parselines(line):\n",
    "    fields = line.split(',')\n",
    "    stationID = fields[0]\n",
    "    entryType = fields[2]\n",
    "    temperature = float(fields[3]) # keeping temperature in Celcius \n",
    "    return (stationID, entryType, temperature)\n",
    "\n",
    "lines= sc.textFile(\"C:\\\\1800.csv\")\n",
    "rdd = lines.map(parselines)\n",
    "\n",
    "rddMin = rdd.filter(lambda x: \"TMAX\" in x[1])\n",
    "rddStation = rddMin.map(lambda x: (x[0], x[2]))\n",
    "minTemps = rddStation.reduceByKey(lambda x,y: max(x,y))\n",
    "\n",
    "results = minTemps.collect()\n",
    "\n",
    "for result in results:\n",
    "    print(result)\n",
    "\n"
   ]
  },
  {
   "cell_type": "code",
   "execution_count": 2,
   "metadata": {},
   "outputs": [],
   "source": [
    "sc.stop()"
   ]
  }
 ],
 "metadata": {
  "kernelspec": {
   "display_name": "Python 3",
   "language": "python",
   "name": "python3"
  },
  "language_info": {
   "codemirror_mode": {
    "name": "ipython",
    "version": 3
   },
   "file_extension": ".py",
   "mimetype": "text/x-python",
   "name": "python",
   "nbconvert_exporter": "python",
   "pygments_lexer": "ipython3",
   "version": "3.7.4"
  }
 },
 "nbformat": 4,
 "nbformat_minor": 2
}
