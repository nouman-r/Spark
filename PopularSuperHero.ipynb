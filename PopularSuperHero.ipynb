{
 "cells": [
  {
   "cell_type": "code",
   "execution_count": 1,
   "metadata": {},
   "outputs": [],
   "source": [
    "import findspark, re\n",
    "findspark.init()\n",
    "import pyspark, collections\n",
    "from pyspark import SparkConf, SparkContext\n",
    "\n",
    "conf = SparkConf().setMaster(\"local\").setAppName(\"PopularSuperHero\")\n",
    "sc = SparkContext(conf = conf)"
   ]
  },
  {
   "cell_type": "code",
   "execution_count": 33,
   "metadata": {},
   "outputs": [
    {
     "name": "stdout",
     "output_type": "stream",
     "text": [
      "CAPTAIN AMERICA is the most popular superhero, with  1933 co-appearrences\n"
     ]
    }
   ],
   "source": [
    "def parseLines(line): #created dictionary with movie ID and names\n",
    "    \n",
    "    heroID = int(line.split()[0])\n",
    "    co = len(line.split())-1\n",
    "    return (heroID, co)\n",
    "\n",
    "def parseNames(name):\n",
    "    fields = name.split('\\\"') #Split based on \"\"\n",
    "    return (int(fields[0]), fields[1])\n",
    "    \n",
    "\n",
    "lines = sc.textFile(\"C:\\\\Marvel-Graph.txt\")  \n",
    "pairings = lines.map(parseLines)\n",
    "\n",
    "names = sc.textFile(\"C:\\\\Marvel-names.txt\")\n",
    "namesRDD = names.map(parseNames)\n",
    "\n",
    "totalCo = pairings.reduceByKey(lambda x,y: x+y)\n",
    "flipped = totalCo.map(lambda x: (x[1],x[0]))\n",
    "\n",
    "mostPopular = flipped.max()\n",
    "\n",
    "mostPopName = namesRDD.lookup(mostPopular[1])[0]\n",
    "\n",
    "print (mostPopName,\"is the most popular superhero, with \",str(mostPopular[0]), \"co-appearrences\") "
   ]
  },
  {
   "cell_type": "code",
   "execution_count": 34,
   "metadata": {},
   "outputs": [
    {
     "data": {
      "text/plain": [
       "[(1, '24-HOUR MAN/EMMANUEL'), (2, '3-D MAN/CHARLES CHAN')]"
      ]
     },
     "execution_count": 34,
     "metadata": {},
     "output_type": "execute_result"
    }
   ],
   "source": []
  },
  {
   "cell_type": "code",
   "execution_count": null,
   "metadata": {},
   "outputs": [],
   "source": []
  }
 ],
 "metadata": {
  "kernelspec": {
   "display_name": "Python 3",
   "language": "python",
   "name": "python3"
  },
  "language_info": {
   "codemirror_mode": {
    "name": "ipython",
    "version": 3
   },
   "file_extension": ".py",
   "mimetype": "text/x-python",
   "name": "python",
   "nbconvert_exporter": "python",
   "pygments_lexer": "ipython3",
   "version": "3.7.4"
  }
 },
 "nbformat": 4,
 "nbformat_minor": 2
}
