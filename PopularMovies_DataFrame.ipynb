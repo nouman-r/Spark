{
 "cells": [
  {
   "cell_type": "code",
   "execution_count": 11,
   "metadata": {},
   "outputs": [
    {
     "name": "stdout",
     "output_type": "stream",
     "text": [
      "Row(movieID=50, count=583)\n",
      "Row(movieID=258, count=509)\n",
      "Row(movieID=100, count=508)\n",
      "Row(movieID=181, count=507)\n",
      "Row(movieID=294, count=485)\n",
      "Row(movieID=286, count=481)\n",
      "Row(movieID=288, count=478)\n",
      "Row(movieID=1, count=452)\n",
      "Row(movieID=300, count=431)\n",
      "Row(movieID=121, count=429)\n",
      "\n",
      "\n",
      "Star Wars (1977)  :  583\n",
      "Contact (1997)  :  509\n",
      "Fargo (1996)  :  508\n",
      "Return of the Jedi (1983)  :  507\n",
      "Liar Liar (1997)  :  485\n",
      "English Patient, The (1996)  :  481\n",
      "Scream (1996)  :  478\n",
      "Toy Story (1995)  :  452\n",
      "Air Force One (1997)  :  431\n",
      "Independence Day (ID4) (1996)  :  429\n"
     ]
    }
   ],
   "source": [
    "import findspark\n",
    "findspark.init()\n",
    "import pyspark, collections\n",
    "from pyspark.sql import SparkSession, Row\n",
    "\n",
    "def loadMovieNames():\n",
    "    movieNames = {}\n",
    "    with open(\"ml-100k/u.ITEM\") as f:\n",
    "        for line in f:\n",
    "            fields = line.split(\"|\")\n",
    "            movieNames[int(fields[0])] = fields[1]\n",
    "        return movieNames\n",
    "\n",
    "spark = SparkSession.builder.config(\"spark.sql.warehouse.dir\", \"file:////C:/temp\").appName(\"PopularMovieDF\").getOrCreate()\n",
    "\n",
    "\n",
    "lines = spark.sparkContext.textFile(\"C:\\\\ml-100k\\\\u.DATA\")\n",
    "\n",
    "movies = lines.map(lambda x: Row(movieID = int(x.split()[1])))\n",
    "\n",
    "movieDataSet = spark.createDataFrame(movies)\n",
    "\n",
    "topMovieIDs = movieDataSet.groupBy(\"movieID\").count().orderBy(\"count\", ascending = False).cache()\n",
    "\n",
    "top10Movies = topMovieIDs.take(10)\n",
    "\n",
    "for movie in top10Movies:\n",
    "    print(movie)\n",
    "    \n",
    "movieNames = loadMovieNames() # populate movie name dictionary\n",
    "\n",
    "print(\"\\n\") # new line \n",
    "\n",
    "for result in top10Movies:\n",
    "    print(movieNames[result[0]], \" : \", result[1])\n",
    "\n",
    "spark.stop()"
   ]
  }
 ],
 "metadata": {
  "kernelspec": {
   "display_name": "Python 3",
   "language": "python",
   "name": "python3"
  },
  "language_info": {
   "codemirror_mode": {
    "name": "ipython",
    "version": 3
   },
   "file_extension": ".py",
   "mimetype": "text/x-python",
   "name": "python",
   "nbconvert_exporter": "python",
   "pygments_lexer": "ipython3",
   "version": "3.7.4"
  }
 },
 "nbformat": 4,
 "nbformat_minor": 2
}
