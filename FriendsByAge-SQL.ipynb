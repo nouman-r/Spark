{
 "cells": [
  {
   "cell_type": "code",
   "execution_count": 8,
   "metadata": {},
   "outputs": [
    {
     "name": "stdout",
     "output_type": "stream",
     "text": [
      "Row(ID=21, age=19, name='Miles', numFriends=268)\n",
      "Row(ID=52, age=19, name='Beverly', numFriends=269)\n",
      "Row(ID=54, age=19, name='Brunt', numFriends=5)\n",
      "Row(ID=106, age=18, name='Beverly', numFriends=499)\n",
      "Row(ID=115, age=18, name='Dukat', numFriends=397)\n",
      "Row(ID=133, age=19, name='Quark', numFriends=265)\n",
      "Row(ID=136, age=19, name='Will', numFriends=335)\n",
      "Row(ID=225, age=19, name='Elim', numFriends=106)\n",
      "Row(ID=304, age=19, name='Will', numFriends=404)\n",
      "Row(ID=341, age=18, name='Data', numFriends=326)\n",
      "Row(ID=366, age=19, name='Keiko', numFriends=119)\n",
      "Row(ID=373, age=19, name='Quark', numFriends=272)\n",
      "Row(ID=377, age=18, name='Beverly', numFriends=418)\n",
      "Row(ID=404, age=18, name='Kasidy', numFriends=24)\n",
      "Row(ID=409, age=19, name='Nog', numFriends=267)\n",
      "Row(ID=439, age=18, name='Data', numFriends=417)\n",
      "Row(ID=444, age=18, name='Keiko', numFriends=472)\n",
      "Row(ID=492, age=19, name='Dukat', numFriends=36)\n",
      "Row(ID=494, age=18, name='Kasidy', numFriends=194)\n",
      "+---+-----+\n",
      "|age|count|\n",
      "+---+-----+\n",
      "| 18|    8|\n",
      "| 19|   11|\n",
      "| 20|    5|\n",
      "| 21|    8|\n",
      "| 22|    7|\n",
      "| 23|   10|\n",
      "| 24|    5|\n",
      "| 25|   11|\n",
      "| 26|   17|\n",
      "| 27|    8|\n",
      "| 28|   10|\n",
      "| 29|   12|\n",
      "| 30|   11|\n",
      "| 31|    8|\n",
      "| 32|   11|\n",
      "| 33|   12|\n",
      "| 34|    6|\n",
      "| 35|    8|\n",
      "| 36|   10|\n",
      "| 37|    9|\n",
      "+---+-----+\n",
      "only showing top 20 rows\n",
      "\n"
     ]
    }
   ],
   "source": [
    "import findspark\n",
    "findspark.init()\n",
    "import pyspark, collections\n",
    "from pyspark.sql import SparkSession, Row\n",
    "\n",
    "spark = SparkSession.builder.config(\"spark.sql.warehouse.dir\", \"file:////C:/temp\").appName(\"FriendsByAge\").getOrCreate()\n",
    "\n",
    "def mapper(line):\n",
    "    fields = line.split(',')\n",
    "    return Row(ID = int(fields[0]), name = fields[1], age= int(fields[2]), numFriends=int(fields[3]))\n",
    "\n",
    "lines = spark.sparkContext.textFile(\"fakefriends.csv\")\n",
    "\n",
    "people = lines.map(mapper)\n",
    "\n",
    "# infer the schema and register the DataFrame as a table\n",
    "schemaPeople = spark.createDataFrame(people).cache()\n",
    "schemaPeople.createOrReplaceTempView(\"people\") # creates temp table named \"people\"\n",
    "\n",
    "#SQL can be run over a DataFrame that have been registered as a table\n",
    "\n",
    "teenagers = spark.sql(\"SELECT * FROM people WHERE age >=13 AND age<=19\") \n",
    "\n",
    "for teen in teenagers.collect():\n",
    "    print(teen)\n",
    "    \n",
    "\n",
    "# we can use functions instead of SQL queries\n",
    "\n",
    "schemaPeople.groupBy(\"age\").count().orderBy('age').show()\n",
    "\n",
    "\n",
    "\n"
   ]
  },
  {
   "cell_type": "code",
   "execution_count": 9,
   "metadata": {},
   "outputs": [
    {
     "data": {
      "text/plain": [
       "DataFrame[ID: bigint, age: bigint, name: string, numFriends: bigint]"
      ]
     },
     "execution_count": 9,
     "metadata": {},
     "output_type": "execute_result"
    }
   ],
   "source": [
    "teenagers"
   ]
  }
 ],
 "metadata": {
  "kernelspec": {
   "display_name": "Python 3",
   "language": "python",
   "name": "python3"
  },
  "language_info": {
   "codemirror_mode": {
    "name": "ipython",
    "version": 3
   },
   "file_extension": ".py",
   "mimetype": "text/x-python",
   "name": "python",
   "nbconvert_exporter": "python",
   "pygments_lexer": "ipython3",
   "version": "3.7.3"
  }
 },
 "nbformat": 4,
 "nbformat_minor": 2
}
